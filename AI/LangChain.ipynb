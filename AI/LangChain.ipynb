{
  "nbformat": 4,
  "nbformat_minor": 0,
  "metadata": {
    "colab": {
      "provenance": [],
      "authorship_tag": "ABX9TyOKOTq9zMvMLb7ASkTjZpM9",
      "include_colab_link": true
    },
    "kernelspec": {
      "name": "python3",
      "display_name": "Python 3"
    },
    "language_info": {
      "name": "python"
    }
  },
  "cells": [
    {
      "cell_type": "markdown",
      "metadata": {
        "id": "view-in-github",
        "colab_type": "text"
      },
      "source": [
        "<a href=\"https://colab.research.google.com/github/jagjerez/Curses/blob/main/AI/LangChain.ipynb\" target=\"_parent\"><img src=\"https://colab.research.google.com/assets/colab-badge.svg\" alt=\"Open In Colab\"/></a>"
      ]
    },
    {
      "cell_type": "markdown",
      "source": [
        "Modelos MLL (modelos de gran escala)\n",
        "\n",
        "Limitaciones: informacion desactualizada (fecha en concreto, apartir de ahi no tiene mas datos.\n",
        "\n",
        "# Limitaciones\n",
        "\n",
        "Las alucinaciones,\n",
        "La falta credibilidad\n",
        "\n",
        "# Evitar las desventajas\n",
        "\n",
        "Retrieval Augmentation (RAG App) base de conocimientos externos\n",
        "Chaining, realiza acciones busquedas y calculos\n",
        "Promp engineer, guia respuestas apropiadas\n",
        "Monitoreo, Filtrado y Revisiones: Inversiones y supervision huamana\n",
        "\n",
        "# Memoria\n",
        "\n",
        "Retiene el contexto de la conversacion a lo largo del tiempo"
      ],
      "metadata": {
        "id": "8NeiCiR7Zgmh"
      }
    }
  ]
}