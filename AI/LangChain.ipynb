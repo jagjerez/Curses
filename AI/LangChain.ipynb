{
  "nbformat": 4,
  "nbformat_minor": 0,
  "metadata": {
    "colab": {
      "provenance": [],
      "authorship_tag": "ABX9TyNIhFSodvS96QhXtoU2EAhr"
    },
    "kernelspec": {
      "name": "python3",
      "display_name": "Python 3"
    },
    "language_info": {
      "name": "python"
    }
  },
  "cells": [
    {
      "cell_type": "markdown",
      "source": [
        "Modelos MLL (modelos de gran escala)\n",
        "\n",
        "Limitaciones: informacion desactualizada (fecha en concreto, apartir de ahi no tiene mas datos.\n",
        "\n",
        "# Limitaciones\n",
        "\n",
        "Las alucinaciones,\n",
        "La falta credibilidad\n",
        "\n",
        "# Evitar las desventajas\n",
        "\n",
        "Retrieval Augmentation (RAG App) base de conocimientos externos\n",
        "Chaining, realiza acciones busquedas y calculos\n",
        "Promp engineer, guia respuestas apropiadas\n",
        "\n",
        "# Monitoreo, Filtrado y Revisiones\n",
        "\n",
        "Inversiones y supervision huamana\n",
        "\n",
        "# Memoria\n",
        "\n",
        "Retiene el contexto de la conversacion a lo largo del tiempo\n",
        "\n",
        "# Fine-tuning\n",
        "\n",
        "Entrenamiento y ajuste del LLM con datos mas apropiados para el dominio o logica de negocio\n",
        "\n",
        "¿Que es langChain?\n",
        "\n",
        "Framework de aplicaciones avanzadas basadas en modelos MLL\n",
        "\n",
        "Facilita la creacion de agentes\n",
        "\n",
        "Permite integrar todos los componentes antes mencionados.\n",
        "\n",
        "# LLM App\n",
        "\n",
        "Software que ultiza modelos de lenguajes para crear aplicaciones especifica\n",
        "\n",
        "##### minuto 8:25"
      ],
      "metadata": {
        "id": "8NeiCiR7Zgmh"
      }
    }
  ]
}